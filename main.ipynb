{
 "cells": [
  {
   "cell_type": "code",
   "execution_count": 175,
   "metadata": {},
   "outputs": [],
   "source": [
    "import copy"
   ]
  },
  {
   "cell_type": "code",
   "execution_count": 176,
   "metadata": {},
   "outputs": [],
   "source": [
    "class Premise:\n",
    "    \n",
    "    def __init__(self, components, connective=None, sign=True):\n",
    "        self.sign = sign\n",
    "        self.components = components\n",
    "        self.connective = connective\n",
    "        \n",
    "    def __eq__(self, other):\n",
    "        if isinstance(other, Premise):\n",
    "            return self.sign == other.sign and self.components == other.components and self.connective == other.connective\n",
    "        return NotImplemented\n",
    "    \n",
    "    def __str__(self):\n",
    "        result = \"\"\n",
    "        if self.connective == None:\n",
    "            result += str(self.components[0])\n",
    "        else:\n",
    "            result += \"(\" + (self.connective).join(str(c) for c in self.components) + \")\"\n",
    "        if self.sign == False:\n",
    "            result = \"~\" + result\n",
    "        return result\n",
    "            \n",
    "    def get_negate(self):\n",
    "        other = copy.deepcopy(self)\n",
    "        other.sign = not self.sign\n",
    "        return other"
   ]
  },
  {
   "cell_type": "code",
   "execution_count": 177,
   "metadata": {},
   "outputs": [],
   "source": [
    "class Inference:\n",
    "    def __init__(self, premises, getConclusion=None):\n",
    "        self.premises = premises\n",
    "        self.getConclusion = getConclusion\n",
    "        self.conclusion = None if getConclusion is None else getConclusion(premises)\n",
    "        \n",
    "    def get_conclusion(self):\n",
    "        if self.getConclusion is not None:\n",
    "            self.conclusion = self.getConclusion(self.premises)\n",
    "        else:\n",
    "            return"
   ]
  },
  {
   "cell_type": "code",
   "execution_count": 200,
   "metadata": {},
   "outputs": [
    {
     "name": "stdout",
     "output_type": "stream",
     "text": [
      "~p\n"
     ]
    }
   ],
   "source": [
    "def MP(premises):\n",
    "#     premises=[Premise([p,q],connective=\"->\"),\n",
    "#               Premise([p])]\n",
    "    if premises[0].connective == \"->\" and premises[1] == premises[0].components[0]:\n",
    "        return premises[0].components[1]\n",
    "    else:\n",
    "        return False\n",
    "def MT(premises):\n",
    "    if premises[0].connective == \"->\" and premises[0].components[1].get_negate() == premises[1]:\n",
    "        return premises[0].components[0].get_negate()\n",
    "    else:\n",
    "        return False\n",
    "\n",
    "p = Premise([\"p\"])\n",
    "q = Premise([\"q\"])\n",
    "first = Premise([p,q],\"->\") #1. p->q\n",
    "second = Premise([\"q\"],sign=False) #2. ~q\n",
    "print(Inference([first,second],getConclusion=MT).conclusion) #3. p"
   ]
  },
  {
   "cell_type": "code",
   "execution_count": 201,
   "metadata": {},
   "outputs": [
    {
     "name": "stdout",
     "output_type": "stream",
     "text": [
      "((~FvX)->(PvT)) (F->P) ~P\n",
      "(F->P)\n",
      "~P\n",
      "~F\n"
     ]
    }
   ],
   "source": [
    "F = Premise([\"F\"])\n",
    "X = Premise([\"X\"])\n",
    "P = Premise([\"P\"])\n",
    "T = Premise([\"T\"])\n",
    "first = Premise([Premise([F.get_negate(),X],\"v\"),Premise([P,T],\"v\")],\"->\")\n",
    "second = Premise([F,P],\"->\")\n",
    "third = P.get_negate()\n",
    "premises = [first,second,third]\n",
    "print(' '.join(str(p) for p in premises))\n",
    "for one in premises:\n",
    "    for two in premises:\n",
    "        for rule in rules:\n",
    "            if rule([one,two]) is not False:\n",
    "                print(one)\n",
    "                print(two)\n",
    "                print(rule([one,two]))"
   ]
  },
  {
   "cell_type": "code",
   "execution_count": null,
   "metadata": {},
   "outputs": [],
   "source": []
  },
  {
   "cell_type": "code",
   "execution_count": null,
   "metadata": {},
   "outputs": [],
   "source": []
  },
  {
   "cell_type": "code",
   "execution_count": null,
   "metadata": {},
   "outputs": [],
   "source": []
  },
  {
   "cell_type": "code",
   "execution_count": null,
   "metadata": {},
   "outputs": [],
   "source": []
  },
  {
   "cell_type": "code",
   "execution_count": null,
   "metadata": {},
   "outputs": [],
   "source": []
  },
  {
   "cell_type": "code",
   "execution_count": null,
   "metadata": {},
   "outputs": [],
   "source": []
  }
 ],
 "metadata": {
  "kernelspec": {
   "display_name": "Python 3",
   "language": "python",
   "name": "python3"
  },
  "language_info": {
   "codemirror_mode": {
    "name": "ipython",
    "version": 3
   },
   "file_extension": ".py",
   "mimetype": "text/x-python",
   "name": "python",
   "nbconvert_exporter": "python",
   "pygments_lexer": "ipython3",
   "version": "3.7.4"
  }
 },
 "nbformat": 4,
 "nbformat_minor": 4
}
